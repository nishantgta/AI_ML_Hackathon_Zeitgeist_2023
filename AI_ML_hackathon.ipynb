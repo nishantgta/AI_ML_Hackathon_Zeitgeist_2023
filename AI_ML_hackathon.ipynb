{
  "nbformat": 4,
  "nbformat_minor": 0,
  "metadata": {
    "colab": {
      "provenance": [],
      "authorship_tag": "ABX9TyMRrANU2zkxPvvbsHKK29fm",
      "include_colab_link": true
    },
    "kernelspec": {
      "name": "python3",
      "display_name": "Python 3"
    },
    "language_info": {
      "name": "python"
    }
  },
  "cells": [
    {
      "cell_type": "markdown",
      "metadata": {
        "id": "view-in-github",
        "colab_type": "text"
      },
      "source": [
        "<a href=\"https://colab.research.google.com/github/nishantgta/AI_ML_Hackathon_Zeitgeist_2023/blob/main/AI_ML_hackathon.ipynb\" target=\"_parent\"><img src=\"https://colab.research.google.com/assets/colab-badge.svg\" alt=\"Open In Colab\"/></a>"
      ]
    },
    {
      "cell_type": "code",
      "execution_count": 35,
      "metadata": {
        "id": "Q_dYRH2IeInc"
      },
      "outputs": [],
      "source": [
        "import numpy as np\n",
        "import pandas as pd\n",
        "from sklearn.preprocessing import StandardScaler\n",
        "from imblearn.over_sampling import RandomOverSampler"
      ]
    },
    {
      "cell_type": "code",
      "source": [
        "cols=[\"age\",\"sex\",\"cp\",\"trestbps\",\"chol\",\"fbs\",\"restecg\",\"thalach\",\"exang\",\"oldpeak\",\"slope\",\"ca\",\"thal\",\"num\"]\n",
        "df_cleveland = pd.read_csv(\"/content/processed.cleveland.data\",names=cols)\n",
        "''' df_hungary = pd.read_csv() '''"
      ],
      "metadata": {
        "colab": {
          "base_uri": "https://localhost:8080/",
          "height": 36
        },
        "id": "L_k00d-BfbUr",
        "outputId": "7af21960-415a-4812-f1a2-78401ec89002"
      },
      "execution_count": 36,
      "outputs": [
        {
          "output_type": "execute_result",
          "data": {
            "text/plain": [
              "' df_hungary = pd.read_csv() '"
            ],
            "application/vnd.google.colaboratory.intrinsic+json": {
              "type": "string"
            }
          },
          "metadata": {},
          "execution_count": 36
        }
      ]
    },
    {
      "cell_type": "code",
      "source": [
        "print(df_cleveland)"
      ],
      "metadata": {
        "colab": {
          "base_uri": "https://localhost:8080/"
        },
        "id": "mVgKSsT6fq2W",
        "outputId": "c58357cc-ef90-4621-dd68-80baef7b467f"
      },
      "execution_count": 37,
      "outputs": [
        {
          "output_type": "stream",
          "name": "stdout",
          "text": [
            "      age  sex   cp  trestbps   chol  fbs  restecg  thalach  exang  oldpeak  \\\n",
            "0    63.0  1.0  1.0     145.0  233.0  1.0      2.0    150.0    0.0      2.3   \n",
            "1    67.0  1.0  4.0     160.0  286.0  0.0      2.0    108.0    1.0      1.5   \n",
            "2    67.0  1.0  4.0     120.0  229.0  0.0      2.0    129.0    1.0      2.6   \n",
            "3    37.0  1.0  3.0     130.0  250.0  0.0      0.0    187.0    0.0      3.5   \n",
            "4    41.0  0.0  2.0     130.0  204.0  0.0      2.0    172.0    0.0      1.4   \n",
            "..    ...  ...  ...       ...    ...  ...      ...      ...    ...      ...   \n",
            "298  45.0  1.0  1.0     110.0  264.0  0.0      0.0    132.0    0.0      1.2   \n",
            "299  68.0  1.0  4.0     144.0  193.0  1.0      0.0    141.0    0.0      3.4   \n",
            "300  57.0  1.0  4.0     130.0  131.0  0.0      0.0    115.0    1.0      1.2   \n",
            "301  57.0  0.0  2.0     130.0  236.0  0.0      2.0    174.0    0.0      0.0   \n",
            "302  38.0  1.0  3.0     138.0  175.0  0.0      0.0    173.0    0.0      0.0   \n",
            "\n",
            "     slope   ca thal  num  \n",
            "0      3.0  0.0  6.0    0  \n",
            "1      2.0  3.0  3.0    2  \n",
            "2      2.0  2.0  7.0    1  \n",
            "3      3.0  0.0  3.0    0  \n",
            "4      1.0  0.0  3.0    0  \n",
            "..     ...  ...  ...  ...  \n",
            "298    2.0  0.0  7.0    1  \n",
            "299    2.0  2.0  7.0    2  \n",
            "300    2.0  1.0  7.0    3  \n",
            "301    2.0  1.0  3.0    1  \n",
            "302    1.0    ?  3.0    0  \n",
            "\n",
            "[303 rows x 14 columns]\n"
          ]
        }
      ]
    },
    {
      "cell_type": "code",
      "source": [
        "mask = df_cleveland.apply(lambda x: any(x == '?'), axis=1)\n",
        "df_cleveland = df_cleveland.drop(index=df_cleveland[mask].index)"
      ],
      "metadata": {
        "id": "Ljg6O2eEfwf1"
      },
      "execution_count": 38,
      "outputs": []
    },
    {
      "cell_type": "code",
      "source": [
        "print(df_cleveland.tail())"
      ],
      "metadata": {
        "colab": {
          "base_uri": "https://localhost:8080/"
        },
        "id": "ApWEatoOi_Bn",
        "outputId": "79934b6c-8199-42a9-c794-7fddfb8e1e24"
      },
      "execution_count": 39,
      "outputs": [
        {
          "output_type": "stream",
          "name": "stdout",
          "text": [
            "      age  sex   cp  trestbps   chol  fbs  restecg  thalach  exang  oldpeak  \\\n",
            "297  57.0  0.0  4.0     140.0  241.0  0.0      0.0    123.0    1.0      0.2   \n",
            "298  45.0  1.0  1.0     110.0  264.0  0.0      0.0    132.0    0.0      1.2   \n",
            "299  68.0  1.0  4.0     144.0  193.0  1.0      0.0    141.0    0.0      3.4   \n",
            "300  57.0  1.0  4.0     130.0  131.0  0.0      0.0    115.0    1.0      1.2   \n",
            "301  57.0  0.0  2.0     130.0  236.0  0.0      2.0    174.0    0.0      0.0   \n",
            "\n",
            "     slope   ca thal  num  \n",
            "297    2.0  0.0  7.0    1  \n",
            "298    2.0  0.0  7.0    1  \n",
            "299    2.0  2.0  7.0    2  \n",
            "300    2.0  1.0  7.0    3  \n",
            "301    2.0  1.0  3.0    1  \n"
          ]
        }
      ]
    },
    {
      "cell_type": "code",
      "source": [
        "print(df_cleveland['num'].unique())"
      ],
      "metadata": {
        "colab": {
          "base_uri": "https://localhost:8080/"
        },
        "id": "kWxF5ecMjJko",
        "outputId": "dd44eb52-88ad-483f-83c5-8269edb675a4"
      },
      "execution_count": 40,
      "outputs": [
        {
          "output_type": "stream",
          "name": "stdout",
          "text": [
            "[0 2 1 3 4]\n"
          ]
        }
      ]
    },
    {
      "cell_type": "code",
      "source": [
        "print((df_cleveland['num']==0).sum())"
      ],
      "metadata": {
        "colab": {
          "base_uri": "https://localhost:8080/"
        },
        "id": "kXpLqImaj4u3",
        "outputId": "4192c69d-449b-4656-f5d5-d20d00322f2e"
      },
      "execution_count": 41,
      "outputs": [
        {
          "output_type": "stream",
          "name": "stdout",
          "text": [
            "160\n"
          ]
        }
      ]
    },
    {
      "cell_type": "markdown",
      "source": [
        "#Preprocessing"
      ],
      "metadata": {
        "id": "HzOqmNxOxBiA"
      }
    },
    {
      "cell_type": "code",
      "source": [
        "df_cleveland.loc[df_cleveland['num']>0,'num']=1"
      ],
      "metadata": {
        "id": "tsKE8Do6swRX"
      },
      "execution_count": 42,
      "outputs": []
    },
    {
      "cell_type": "code",
      "source": [
        "print(df_cleveland['num'].unique())"
      ],
      "metadata": {
        "colab": {
          "base_uri": "https://localhost:8080/"
        },
        "id": "Gs1I7auxw_4r",
        "outputId": "b15ca897-5b67-435d-f880-f6cfe2314afe"
      },
      "execution_count": 43,
      "outputs": [
        {
          "output_type": "stream",
          "name": "stdout",
          "text": [
            "[0 1]\n"
          ]
        }
      ]
    },
    {
      "cell_type": "markdown",
      "source": [
        "#training, testing, validation"
      ],
      "metadata": {
        "id": "JWvVHrjjmuqt"
      }
    },
    {
      "cell_type": "code",
      "source": [
        "train,test,valid=np.split(df_cleveland.sample(frac=1),[int(0.6*len(df_cleveland)),int(0.8*len(df_cleveland))]) "
      ],
      "metadata": {
        "id": "QJjnzLRYmykE"
      },
      "execution_count": 44,
      "outputs": []
    },
    {
      "cell_type": "code",
      "source": [
        "def scale_dataset(dataframe,oversample=False):\n",
        "  X = dataframe[dataframe.columns[:-1]].values\n",
        "  Y = dataframe[dataframe.columns[-1]].values\n",
        "  ''' print(dataframe[dataframe.columns[:-1]].shape)\n",
        "  print(dataframe[dataframe.columns[-1]].shape) '''\n",
        "  \n",
        "  scaler = StandardScaler()\n",
        "  x = scaler.fit_transform(X) \n",
        "\n",
        "  if oversample:\n",
        "    ros = RandomOverSampler()\n",
        "    X,Y = ros.fit_resample(X,Y) #take more of the minority class, and keep sampling it, so as to increase its dataset\n",
        "\n",
        "  data = np.hstack((X,np.reshape(Y,(len(Y),1)))) #horizontally stack the two arrays and not top of each other\n",
        "\n",
        "  return data,X,Y"
      ],
      "metadata": {
        "id": "akEERx2Wzx9b"
      },
      "execution_count": 45,
      "outputs": []
    },
    {
      "cell_type": "code",
      "source": [
        "train,train_X,train_Y = scale_dataset(train,False) \n",
        "valid,valid_X,valid_Y = scale_dataset(valid,False)\n",
        "test,test_X,test_Y = scale_dataset(test,False)"
      ],
      "metadata": {
        "id": "QymwiE0x0JB3"
      },
      "execution_count": 46,
      "outputs": []
    },
    {
      "cell_type": "markdown",
      "source": [
        "#LOGISTIC REGRESSION"
      ],
      "metadata": {
        "id": "EKBhN7EBMmXm"
      }
    },
    {
      "cell_type": "code",
      "source": [
        "from sklearn.linear_model import LogisticRegression\n",
        "from sklearn.metrics import classification_report"
      ],
      "metadata": {
        "id": "6sPPTLWyMl_3"
      },
      "execution_count": 47,
      "outputs": []
    },
    {
      "cell_type": "markdown",
      "source": [],
      "metadata": {
        "id": "xXEoFsnjRHu9"
      }
    },
    {
      "cell_type": "code",
      "source": [
        "lg_model = LogisticRegression(max_iter=1000)\n",
        "lg_model = lg_model.fit(train_X,train_Y)"
      ],
      "metadata": {
        "id": "hufwy42RMsg4"
      },
      "execution_count": 48,
      "outputs": []
    },
    {
      "cell_type": "code",
      "source": [
        "lg_predict = lg_model.predict(test_X)"
      ],
      "metadata": {
        "id": "lX9s3rZZQnv7"
      },
      "execution_count": 49,
      "outputs": []
    },
    {
      "cell_type": "code",
      "source": [
        "print(test_Y)"
      ],
      "metadata": {
        "colab": {
          "base_uri": "https://localhost:8080/"
        },
        "id": "025p-G_KQx9l",
        "outputId": "d9b7eef2-1741-4a19-ec2e-61d4bcc31b21"
      },
      "execution_count": 50,
      "outputs": [
        {
          "output_type": "stream",
          "name": "stdout",
          "text": [
            "[0 0 0 0 0 0 0 1 0 0 0 0 0 0 0 0 0 1 1 1 0 1 1 0 1 0 0 1 0 1 0 0 0 0 1 1 1\n",
            " 0 0 1 1 1 0 0 0 0 1 1 0 1 0 0 0 1 0 0 0 1 0]\n"
          ]
        }
      ]
    },
    {
      "cell_type": "code",
      "source": [
        "print(classification_report(test_Y,lg_predict))"
      ],
      "metadata": {
        "colab": {
          "base_uri": "https://localhost:8080/"
        },
        "id": "hnBRVDzFQg-Q",
        "outputId": "3b8c5afa-b03a-4e0f-c66a-5d8fd0979d4c"
      },
      "execution_count": 51,
      "outputs": [
        {
          "output_type": "stream",
          "name": "stdout",
          "text": [
            "              precision    recall  f1-score   support\n",
            "\n",
            "           0       0.94      0.87      0.91        39\n",
            "           1       0.78      0.90      0.84        20\n",
            "\n",
            "    accuracy                           0.88        59\n",
            "   macro avg       0.86      0.89      0.87        59\n",
            "weighted avg       0.89      0.88      0.88        59\n",
            "\n"
          ]
        }
      ]
    },
    {
      "cell_type": "code",
      "source": [
        "print(lg_model.intercept_[0])\n",
        "print(lg_model.coef_[0])"
      ],
      "metadata": {
        "colab": {
          "base_uri": "https://localhost:8080/"
        },
        "id": "iBwIGgFJNcva",
        "outputId": "86798773-59bc-432c-d60c-942a242ff984"
      },
      "execution_count": 53,
      "outputs": [
        {
          "output_type": "stream",
          "name": "stdout",
          "text": [
            "-6.763899192603018\n",
            "[-0.00206428  0.70475901  0.88070137  0.01439452 -0.00282538 -0.47408998\n",
            "  0.24326846 -0.00904039  0.73367827  0.42109336  0.57126499  1.05163134\n",
            "  0.28934031]\n"
          ]
        }
      ]
    },
    {
      "cell_type": "code",
      "source": [
        "def calculate_probability(test,intercept,coef):\n",
        "  value_z = intercept\n",
        "  for i in range(0,len(test)):\n",
        "    value_z = value_z+float(test[i])*float(coef[i])\n",
        "  return 1.0/(1.0+np.exp(-value_z))"
      ],
      "metadata": {
        "id": "cCIpRh7oN8RA"
      },
      "execution_count": 85,
      "outputs": []
    },
    {
      "cell_type": "code",
      "source": [
        "print(lg_model.predict(test_X))"
      ],
      "metadata": {
        "colab": {
          "base_uri": "https://localhost:8080/"
        },
        "id": "CE0cV5meROhN",
        "outputId": "c2b55372-9742-45aa-d230-3560a5bc2082"
      },
      "execution_count": 81,
      "outputs": [
        {
          "output_type": "stream",
          "name": "stdout",
          "text": [
            "[0 0 0 0 0 0 0 1 0 0 0 0 0 0 0 0 0 1 1 1 1 1 0 0 1 0 0 1 1 1 1 0 0 0 1 1 1\n",
            " 1 0 1 1 1 0 1 0 0 0 1 0 1 0 0 0 1 0 0 0 1 0]\n"
          ]
        }
      ]
    },
    {
      "cell_type": "code",
      "source": [
        "print(test_Y.size)"
      ],
      "metadata": {
        "colab": {
          "base_uri": "https://localhost:8080/"
        },
        "id": "AdMUiv22RZ5I",
        "outputId": "7154b016-1a4e-414f-ad16-bd00ae8323d3"
      },
      "execution_count": 87,
      "outputs": [
        {
          "output_type": "stream",
          "name": "stdout",
          "text": [
            "59\n"
          ]
        }
      ]
    },
    {
      "cell_type": "code",
      "source": [
        "print(calculate_probability(test_X[7],lg_model.intercept_[0],lg_model.coef_[0]))"
      ],
      "metadata": {
        "colab": {
          "base_uri": "https://localhost:8080/"
        },
        "id": "Oc5l0nxaP5ba",
        "outputId": "2b4354f9-78e2-4011-b585-d1540072ca61"
      },
      "execution_count": 82,
      "outputs": [
        {
          "output_type": "stream",
          "name": "stdout",
          "text": [
            "13\n",
            "13\n",
            "0.957544874063082\n"
          ]
        }
      ]
    },
    {
      "cell_type": "code",
      "source": [
        "for i in range(len(test_X)):\n",
        "  print(calculate_probability(test_X[i],lg_model.intercept_[0],lg_model.coef_[0]))"
      ],
      "metadata": {
        "colab": {
          "base_uri": "https://localhost:8080/"
        },
        "id": "dkQbFo3AR4-e",
        "outputId": "08376960-1bc5-452c-c670-ba6616ff12a2"
      },
      "execution_count": 86,
      "outputs": [
        {
          "output_type": "stream",
          "name": "stdout",
          "text": [
            "0.18532005483459998\n",
            "0.058702635782178034\n",
            "0.21245693685283135\n",
            "0.11941027752104813\n",
            "0.2765855593393324\n",
            "0.09726584934931638\n",
            "0.20483903479163007\n",
            "0.957544874063082\n",
            "0.023857838606442052\n",
            "0.3200958184373941\n",
            "0.28501929125040754\n",
            "0.13464402711437706\n",
            "0.08733103903434115\n",
            "0.07832583189423672\n",
            "0.09965799082505242\n",
            "0.02364690272418296\n",
            "0.05562893660095096\n",
            "0.9818954608720198\n",
            "0.8599345777589261\n",
            "0.9992167005422687\n",
            "0.8177450037538364\n",
            "0.9370493557576126\n",
            "0.18511986651299023\n",
            "0.30857051351410525\n",
            "0.9641572404146084\n",
            "0.11935189337474894\n",
            "0.08799494371098869\n",
            "0.924350868692095\n",
            "0.6334276357423955\n",
            "0.9928803399666214\n",
            "0.6665095756698153\n",
            "0.04811614453282331\n",
            "0.18921700856983756\n",
            "0.13555101359447846\n",
            "0.8421049916892046\n",
            "0.9411489946537164\n",
            "0.9923195029294287\n",
            "0.6120340603139962\n",
            "0.3193633748189285\n",
            "0.9498884555983038\n",
            "0.9506479783961268\n",
            "0.9208483884276457\n",
            "0.23923287084484146\n",
            "0.9040658621484501\n",
            "0.17568855996087138\n",
            "0.28585652914100823\n",
            "0.12412415254331086\n",
            "0.7249038265104553\n",
            "0.4907259414728851\n",
            "0.8593360582644237\n",
            "0.16182578245905965\n",
            "0.015182893202904526\n",
            "0.05823925918511541\n",
            "0.9586490189689477\n",
            "0.4816365152359068\n",
            "0.14953988164022228\n",
            "0.4753948682346805\n",
            "0.9604227977820259\n",
            "0.2691378340302812\n"
          ]
        }
      ]
    }
  ]
}